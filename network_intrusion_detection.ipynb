{
  "cells": [
    {
      "cell_type": "markdown",
      "metadata": {
        "id": "Tf410K-u4_Gw"
      },
      "source": [
        "## 머신러닝을 이용한 트래픽 분석"
      ]
    },
    {
      "cell_type": "code",
      "execution_count": null,
      "metadata": {
        "id": "ba_ofaoEx1Hf"
      },
      "outputs": [],
      "source": [
        "# 필요한 모듈들 import\n",
        "from os.path import join\n",
        "from glob import glob\n",
        "import pandas as pd\n",
        "import numpy as np"
      ]
    },
    {
      "cell_type": "code",
      "execution_count": null,
      "metadata": {
        "colab": {
          "base_uri": "https://localhost:8080/"
        },
        "id": "t4yEkIg0epPv",
        "outputId": "fe78c1bf-a17c-459a-b9e7-5fb35fe3c68b"
      },
      "outputs": [
        {
          "output_type": "stream",
          "name": "stdout",
          "text": [
            "Mounted at /content/drive\n"
          ]
        }
      ],
      "source": [
        "# 구글 드라이브 마운트\n",
        "from google.colab import drive\n",
        "drive.mount('/content/drive')\n",
        "\n",
        "# benign 파일과 malicious 파일의 경로\n",
        "benign_path = '/content/drive/MyDrive/Colab Notebooks/traffic/train/benign'\n",
        "malicious_path = '/content/drive/MyDrive/Colab Notebooks/traffic/train/malicious'\n",
        "\n",
        "# 경로에 있는 csv 파일 목록 리스트에 저장\n",
        "benign_list = sorted(glob(join(benign_path, '*.csv')))\n",
        "malicious_list = sorted(glob(join(malicious_path, '*.csv')))"
      ]
    },
    {
      "cell_type": "code",
      "execution_count": null,
      "metadata": {
        "colab": {
          "base_uri": "https://localhost:8080/"
        },
        "id": "JtvGoRpgtQPM",
        "outputId": "22219829-dcdd-422b-f503-ba56561bc16a"
      },
      "outputs": [
        {
          "output_type": "stream",
          "name": "stderr",
          "text": [
            "<ipython-input-3-be433bbb3d0a>:5: FutureWarning: The error_bad_lines argument has been deprecated and will be removed in a future version. Use on_bad_lines in the future.\n",
            "\n",
            "\n",
            "  tmp = pd.read_csv(list, error_bad_lines=False)\n",
            "<ipython-input-3-be433bbb3d0a>:8: FutureWarning: The frame.append method is deprecated and will be removed from pandas in a future version. Use pandas.concat instead.\n",
            "  train_b = train_b.append(tmp)\n",
            "<ipython-input-3-be433bbb3d0a>:5: FutureWarning: The error_bad_lines argument has been deprecated and will be removed in a future version. Use on_bad_lines in the future.\n",
            "\n",
            "\n",
            "  tmp = pd.read_csv(list, error_bad_lines=False)\n",
            "<ipython-input-3-be433bbb3d0a>:8: FutureWarning: The frame.append method is deprecated and will be removed from pandas in a future version. Use pandas.concat instead.\n",
            "  train_b = train_b.append(tmp)\n",
            "<ipython-input-3-be433bbb3d0a>:5: FutureWarning: The error_bad_lines argument has been deprecated and will be removed in a future version. Use on_bad_lines in the future.\n",
            "\n",
            "\n",
            "  tmp = pd.read_csv(list, error_bad_lines=False)\n",
            "<ipython-input-3-be433bbb3d0a>:5: DtypeWarning: Columns (12,13,14,15,16,18,19,21) have mixed types. Specify dtype option on import or set low_memory=False.\n",
            "  tmp = pd.read_csv(list, error_bad_lines=False)\n",
            "<ipython-input-3-be433bbb3d0a>:8: FutureWarning: The frame.append method is deprecated and will be removed from pandas in a future version. Use pandas.concat instead.\n",
            "  train_b = train_b.append(tmp)\n",
            "<ipython-input-3-be433bbb3d0a>:5: FutureWarning: The error_bad_lines argument has been deprecated and will be removed in a future version. Use on_bad_lines in the future.\n",
            "\n",
            "\n",
            "  tmp = pd.read_csv(list, error_bad_lines=False)\n",
            "<ipython-input-3-be433bbb3d0a>:8: FutureWarning: The frame.append method is deprecated and will be removed from pandas in a future version. Use pandas.concat instead.\n",
            "  train_b = train_b.append(tmp)\n",
            "<ipython-input-3-be433bbb3d0a>:5: FutureWarning: The error_bad_lines argument has been deprecated and will be removed in a future version. Use on_bad_lines in the future.\n",
            "\n",
            "\n",
            "  tmp = pd.read_csv(list, error_bad_lines=False)\n",
            "<ipython-input-3-be433bbb3d0a>:8: FutureWarning: The frame.append method is deprecated and will be removed from pandas in a future version. Use pandas.concat instead.\n",
            "  train_b = train_b.append(tmp)\n",
            "<ipython-input-3-be433bbb3d0a>:5: FutureWarning: The error_bad_lines argument has been deprecated and will be removed in a future version. Use on_bad_lines in the future.\n",
            "\n",
            "\n",
            "  tmp = pd.read_csv(list, error_bad_lines=False)\n",
            "Skipping line 311515: expected 22 fields, saw 23\n",
            "Skipping line 313317: expected 22 fields, saw 23\n",
            "\n",
            "<ipython-input-3-be433bbb3d0a>:8: FutureWarning: The frame.append method is deprecated and will be removed from pandas in a future version. Use pandas.concat instead.\n",
            "  train_b = train_b.append(tmp)\n",
            "<ipython-input-3-be433bbb3d0a>:5: FutureWarning: The error_bad_lines argument has been deprecated and will be removed in a future version. Use on_bad_lines in the future.\n",
            "\n",
            "\n",
            "  tmp = pd.read_csv(list, error_bad_lines=False)\n",
            "<ipython-input-3-be433bbb3d0a>:8: FutureWarning: The frame.append method is deprecated and will be removed from pandas in a future version. Use pandas.concat instead.\n",
            "  train_b = train_b.append(tmp)\n",
            "<ipython-input-3-be433bbb3d0a>:5: FutureWarning: The error_bad_lines argument has been deprecated and will be removed in a future version. Use on_bad_lines in the future.\n",
            "\n",
            "\n",
            "  tmp = pd.read_csv(list, error_bad_lines=False)\n",
            "Skipping line 47484: expected 22 fields, saw 23\n",
            "\n",
            "Skipping line 122815: expected 22 fields, saw 27\n",
            "\n",
            "<ipython-input-3-be433bbb3d0a>:8: FutureWarning: The frame.append method is deprecated and will be removed from pandas in a future version. Use pandas.concat instead.\n",
            "  train_b = train_b.append(tmp)\n",
            "<ipython-input-3-be433bbb3d0a>:5: FutureWarning: The error_bad_lines argument has been deprecated and will be removed in a future version. Use on_bad_lines in the future.\n",
            "\n",
            "\n",
            "  tmp = pd.read_csv(list, error_bad_lines=False)\n",
            "<ipython-input-3-be433bbb3d0a>:5: DtypeWarning: Columns (18,21) have mixed types. Specify dtype option on import or set low_memory=False.\n",
            "  tmp = pd.read_csv(list, error_bad_lines=False)\n",
            "<ipython-input-3-be433bbb3d0a>:8: FutureWarning: The frame.append method is deprecated and will be removed from pandas in a future version. Use pandas.concat instead.\n",
            "  train_b = train_b.append(tmp)\n",
            "<ipython-input-3-be433bbb3d0a>:5: FutureWarning: The error_bad_lines argument has been deprecated and will be removed in a future version. Use on_bad_lines in the future.\n",
            "\n",
            "\n",
            "  tmp = pd.read_csv(list, error_bad_lines=False)\n",
            "<ipython-input-3-be433bbb3d0a>:5: DtypeWarning: Columns (18) have mixed types. Specify dtype option on import or set low_memory=False.\n",
            "  tmp = pd.read_csv(list, error_bad_lines=False)\n",
            "<ipython-input-3-be433bbb3d0a>:8: FutureWarning: The frame.append method is deprecated and will be removed from pandas in a future version. Use pandas.concat instead.\n",
            "  train_b = train_b.append(tmp)\n",
            "<ipython-input-3-be433bbb3d0a>:5: FutureWarning: The error_bad_lines argument has been deprecated and will be removed in a future version. Use on_bad_lines in the future.\n",
            "\n",
            "\n",
            "  tmp = pd.read_csv(list, error_bad_lines=False)\n",
            "<ipython-input-3-be433bbb3d0a>:5: DtypeWarning: Columns (18,21) have mixed types. Specify dtype option on import or set low_memory=False.\n",
            "  tmp = pd.read_csv(list, error_bad_lines=False)\n",
            "<ipython-input-3-be433bbb3d0a>:8: FutureWarning: The frame.append method is deprecated and will be removed from pandas in a future version. Use pandas.concat instead.\n",
            "  train_b = train_b.append(tmp)\n",
            "<ipython-input-3-be433bbb3d0a>:5: FutureWarning: The error_bad_lines argument has been deprecated and will be removed in a future version. Use on_bad_lines in the future.\n",
            "\n",
            "\n",
            "  tmp = pd.read_csv(list, error_bad_lines=False)\n",
            "Skipping line 829730: expected 22 fields, saw 23\n",
            "Skipping line 839691: expected 22 fields, saw 23\n",
            "\n",
            "<ipython-input-3-be433bbb3d0a>:5: DtypeWarning: Columns (12,13,14,15,16,18,19,21) have mixed types. Specify dtype option on import or set low_memory=False.\n",
            "  tmp = pd.read_csv(list, error_bad_lines=False)\n",
            "<ipython-input-3-be433bbb3d0a>:8: FutureWarning: The frame.append method is deprecated and will be removed from pandas in a future version. Use pandas.concat instead.\n",
            "  train_b = train_b.append(tmp)\n",
            "<ipython-input-3-be433bbb3d0a>:5: FutureWarning: The error_bad_lines argument has been deprecated and will be removed in a future version. Use on_bad_lines in the future.\n",
            "\n",
            "\n",
            "  tmp = pd.read_csv(list, error_bad_lines=False)\n",
            "<ipython-input-3-be433bbb3d0a>:5: DtypeWarning: Columns (12,13,14,15,16,18,19,21) have mixed types. Specify dtype option on import or set low_memory=False.\n",
            "  tmp = pd.read_csv(list, error_bad_lines=False)\n",
            "<ipython-input-3-be433bbb3d0a>:8: FutureWarning: The frame.append method is deprecated and will be removed from pandas in a future version. Use pandas.concat instead.\n",
            "  train_b = train_b.append(tmp)\n",
            "<ipython-input-3-be433bbb3d0a>:5: FutureWarning: The error_bad_lines argument has been deprecated and will be removed in a future version. Use on_bad_lines in the future.\n",
            "\n",
            "\n",
            "  tmp = pd.read_csv(list, error_bad_lines=False)\n",
            "Skipping line 599341: expected 22 fields, saw 23\n",
            "\n",
            "<ipython-input-3-be433bbb3d0a>:5: DtypeWarning: Columns (18) have mixed types. Specify dtype option on import or set low_memory=False.\n",
            "  tmp = pd.read_csv(list, error_bad_lines=False)\n",
            "<ipython-input-3-be433bbb3d0a>:8: FutureWarning: The frame.append method is deprecated and will be removed from pandas in a future version. Use pandas.concat instead.\n",
            "  train_b = train_b.append(tmp)\n",
            "<ipython-input-3-be433bbb3d0a>:5: FutureWarning: The error_bad_lines argument has been deprecated and will be removed in a future version. Use on_bad_lines in the future.\n",
            "\n",
            "\n",
            "  tmp = pd.read_csv(list, error_bad_lines=False)\n",
            "<ipython-input-3-be433bbb3d0a>:5: DtypeWarning: Columns (18) have mixed types. Specify dtype option on import or set low_memory=False.\n",
            "  tmp = pd.read_csv(list, error_bad_lines=False)\n",
            "<ipython-input-3-be433bbb3d0a>:8: FutureWarning: The frame.append method is deprecated and will be removed from pandas in a future version. Use pandas.concat instead.\n",
            "  train_b = train_b.append(tmp)\n",
            "<ipython-input-3-be433bbb3d0a>:11: FutureWarning: The error_bad_lines argument has been deprecated and will be removed in a future version. Use on_bad_lines in the future.\n",
            "\n",
            "\n",
            "  train_m = pd.read_csv(malicious_list[0], error_bad_lines=False) # malicious 패킷을 담을 데이터 프레임\n"
          ]
        }
      ],
      "source": [
        "# 데이터 전처리\n",
        "train_b = pd.DataFrame() # benign 패킷을 담을 데이터 프레임\n",
        "\n",
        "for list in benign_list :\n",
        "  tmp = pd.read_csv(list, error_bad_lines=False)\n",
        "  tmp = tmp[(tmp['_ws.col.Protocol']=='TCP') | (tmp['_ws.col.Protocol']=='FTP')] # TCP와 FTP 패킷만 이용\n",
        "  tmp = tmp.sample(frac=0.001).reset_index(drop=True) # 0.1%만 샘플링\n",
        "  train_b = train_b.append(tmp)\n",
        "train_b['B/M'] = 'b' # benign 데이터임을 나타내는 label 열 추가\n",
        "\n",
        "train_m = pd.read_csv(malicious_list[0], error_bad_lines=False) # malicious 패킷을 담을 데이터 프레임\n",
        "train_m['B/M'] = 'r' # malicious 데이터임을 나타내는 label 열 추가"
      ]
    },
    {
      "cell_type": "code",
      "execution_count": null,
      "metadata": {
        "colab": {
          "base_uri": "https://localhost:8080/",
          "height": 372
        },
        "id": "zK0JyL-D1nL1",
        "outputId": "b1c4fdf6-9821-4253-84e8-5c725c7244ff"
      },
      "outputs": [
        {
          "output_type": "stream",
          "name": "stderr",
          "text": [
            "<ipython-input-7-337566219ce8>:3: FutureWarning: The default value of regex will change from True to False in a future version. In addition, single character regular expressions will *not* be treated as literal strings when regex=True.\n",
            "  data_frame['ip.src'] = data_frame['ip.src'].str.replace('.','')\n",
            "<ipython-input-7-337566219ce8>:4: FutureWarning: The default value of regex will change from True to False in a future version. In addition, single character regular expressions will *not* be treated as literal strings when regex=True.\n",
            "  data_frame['ip.dst'] = data_frame['ip.dst'].str.replace('.','')\n"
          ]
        },
        {
          "output_type": "execute_result",
          "data": {
            "text/plain": [
              "   _ws.col.UTCtime _ws.col.Protocol      ip.src      ip.dst  tcp.srcport  \\\n",
              "0  12:15:50.360531              TCP    13107450  1921681014         80.0   \n",
              "1  12:17:06.027934              TCP    13107450  1921681014         80.0   \n",
              "2  12:14:58.920932              TCP  1921681014    13107450      50095.0   \n",
              "3  12:16:23.318015              TCP    13107450  1921681014         80.0   \n",
              "4  12:16:45.739781              TCP    13107450  1921681014         80.0   \n",
              "\n",
              "   tcp.dstport  tcp.len      tcp.seq      tcp.ack  udp.srcport  ...  \\\n",
              "0      50095.0   2920.0  474774922.0      39936.0          0.0  ...   \n",
              "1      50095.0   1460.0  893845333.0      66946.0          0.0  ...   \n",
              "2         80.0      0.0      25336.0  284005985.0          0.0  ...   \n",
              "3      50095.0   1460.0  658717553.0      51616.0          0.0  ...   \n",
              "4      50095.0   2920.0  783488725.0      59646.0          0.0  ...   \n",
              "\n",
              "   http.request.uri  http.user_agent  http.connection  http.host  \\\n",
              "0                 0                0                0          0   \n",
              "1                 0                0                0          0   \n",
              "2                 0                0                0          0   \n",
              "3                 0                0                0          0   \n",
              "4                 0                0                0          0   \n",
              "\n",
              "   http.response.code  http.server  http.content_type  http.content_length  \\\n",
              "0                 0.0            0                  0                  0.0   \n",
              "1                 0.0            0                  0                  0.0   \n",
              "2                 0.0            0                  0                  0.0   \n",
              "3                 0.0            0                  0                  0.0   \n",
              "4                 0.0            0                  0                  0.0   \n",
              "\n",
              "   http.cache_control  B/M  \n",
              "0                   0    b  \n",
              "1                   0    b  \n",
              "2                   0    b  \n",
              "3                   0    b  \n",
              "4                   0    b  \n",
              "\n",
              "[5 rows x 23 columns]"
            ],
            "text/html": [
              "\n",
              "  <div id=\"df-4152046b-920f-4e05-9d2d-d9b4a8701836\">\n",
              "    <div class=\"colab-df-container\">\n",
              "      <div>\n",
              "<style scoped>\n",
              "    .dataframe tbody tr th:only-of-type {\n",
              "        vertical-align: middle;\n",
              "    }\n",
              "\n",
              "    .dataframe tbody tr th {\n",
              "        vertical-align: top;\n",
              "    }\n",
              "\n",
              "    .dataframe thead th {\n",
              "        text-align: right;\n",
              "    }\n",
              "</style>\n",
              "<table border=\"1\" class=\"dataframe\">\n",
              "  <thead>\n",
              "    <tr style=\"text-align: right;\">\n",
              "      <th></th>\n",
              "      <th>_ws.col.UTCtime</th>\n",
              "      <th>_ws.col.Protocol</th>\n",
              "      <th>ip.src</th>\n",
              "      <th>ip.dst</th>\n",
              "      <th>tcp.srcport</th>\n",
              "      <th>tcp.dstport</th>\n",
              "      <th>tcp.len</th>\n",
              "      <th>tcp.seq</th>\n",
              "      <th>tcp.ack</th>\n",
              "      <th>udp.srcport</th>\n",
              "      <th>...</th>\n",
              "      <th>http.request.uri</th>\n",
              "      <th>http.user_agent</th>\n",
              "      <th>http.connection</th>\n",
              "      <th>http.host</th>\n",
              "      <th>http.response.code</th>\n",
              "      <th>http.server</th>\n",
              "      <th>http.content_type</th>\n",
              "      <th>http.content_length</th>\n",
              "      <th>http.cache_control</th>\n",
              "      <th>B/M</th>\n",
              "    </tr>\n",
              "  </thead>\n",
              "  <tbody>\n",
              "    <tr>\n",
              "      <th>0</th>\n",
              "      <td>12:15:50.360531</td>\n",
              "      <td>TCP</td>\n",
              "      <td>13107450</td>\n",
              "      <td>1921681014</td>\n",
              "      <td>80.0</td>\n",
              "      <td>50095.0</td>\n",
              "      <td>2920.0</td>\n",
              "      <td>474774922.0</td>\n",
              "      <td>39936.0</td>\n",
              "      <td>0.0</td>\n",
              "      <td>...</td>\n",
              "      <td>0</td>\n",
              "      <td>0</td>\n",
              "      <td>0</td>\n",
              "      <td>0</td>\n",
              "      <td>0.0</td>\n",
              "      <td>0</td>\n",
              "      <td>0</td>\n",
              "      <td>0.0</td>\n",
              "      <td>0</td>\n",
              "      <td>b</td>\n",
              "    </tr>\n",
              "    <tr>\n",
              "      <th>1</th>\n",
              "      <td>12:17:06.027934</td>\n",
              "      <td>TCP</td>\n",
              "      <td>13107450</td>\n",
              "      <td>1921681014</td>\n",
              "      <td>80.0</td>\n",
              "      <td>50095.0</td>\n",
              "      <td>1460.0</td>\n",
              "      <td>893845333.0</td>\n",
              "      <td>66946.0</td>\n",
              "      <td>0.0</td>\n",
              "      <td>...</td>\n",
              "      <td>0</td>\n",
              "      <td>0</td>\n",
              "      <td>0</td>\n",
              "      <td>0</td>\n",
              "      <td>0.0</td>\n",
              "      <td>0</td>\n",
              "      <td>0</td>\n",
              "      <td>0.0</td>\n",
              "      <td>0</td>\n",
              "      <td>b</td>\n",
              "    </tr>\n",
              "    <tr>\n",
              "      <th>2</th>\n",
              "      <td>12:14:58.920932</td>\n",
              "      <td>TCP</td>\n",
              "      <td>1921681014</td>\n",
              "      <td>13107450</td>\n",
              "      <td>50095.0</td>\n",
              "      <td>80.0</td>\n",
              "      <td>0.0</td>\n",
              "      <td>25336.0</td>\n",
              "      <td>284005985.0</td>\n",
              "      <td>0.0</td>\n",
              "      <td>...</td>\n",
              "      <td>0</td>\n",
              "      <td>0</td>\n",
              "      <td>0</td>\n",
              "      <td>0</td>\n",
              "      <td>0.0</td>\n",
              "      <td>0</td>\n",
              "      <td>0</td>\n",
              "      <td>0.0</td>\n",
              "      <td>0</td>\n",
              "      <td>b</td>\n",
              "    </tr>\n",
              "    <tr>\n",
              "      <th>3</th>\n",
              "      <td>12:16:23.318015</td>\n",
              "      <td>TCP</td>\n",
              "      <td>13107450</td>\n",
              "      <td>1921681014</td>\n",
              "      <td>80.0</td>\n",
              "      <td>50095.0</td>\n",
              "      <td>1460.0</td>\n",
              "      <td>658717553.0</td>\n",
              "      <td>51616.0</td>\n",
              "      <td>0.0</td>\n",
              "      <td>...</td>\n",
              "      <td>0</td>\n",
              "      <td>0</td>\n",
              "      <td>0</td>\n",
              "      <td>0</td>\n",
              "      <td>0.0</td>\n",
              "      <td>0</td>\n",
              "      <td>0</td>\n",
              "      <td>0.0</td>\n",
              "      <td>0</td>\n",
              "      <td>b</td>\n",
              "    </tr>\n",
              "    <tr>\n",
              "      <th>4</th>\n",
              "      <td>12:16:45.739781</td>\n",
              "      <td>TCP</td>\n",
              "      <td>13107450</td>\n",
              "      <td>1921681014</td>\n",
              "      <td>80.0</td>\n",
              "      <td>50095.0</td>\n",
              "      <td>2920.0</td>\n",
              "      <td>783488725.0</td>\n",
              "      <td>59646.0</td>\n",
              "      <td>0.0</td>\n",
              "      <td>...</td>\n",
              "      <td>0</td>\n",
              "      <td>0</td>\n",
              "      <td>0</td>\n",
              "      <td>0</td>\n",
              "      <td>0.0</td>\n",
              "      <td>0</td>\n",
              "      <td>0</td>\n",
              "      <td>0.0</td>\n",
              "      <td>0</td>\n",
              "      <td>b</td>\n",
              "    </tr>\n",
              "  </tbody>\n",
              "</table>\n",
              "<p>5 rows × 23 columns</p>\n",
              "</div>\n",
              "      <button class=\"colab-df-convert\" onclick=\"convertToInteractive('df-4152046b-920f-4e05-9d2d-d9b4a8701836')\"\n",
              "              title=\"Convert this dataframe to an interactive table.\"\n",
              "              style=\"display:none;\">\n",
              "        \n",
              "  <svg xmlns=\"http://www.w3.org/2000/svg\" height=\"24px\"viewBox=\"0 0 24 24\"\n",
              "       width=\"24px\">\n",
              "    <path d=\"M0 0h24v24H0V0z\" fill=\"none\"/>\n",
              "    <path d=\"M18.56 5.44l.94 2.06.94-2.06 2.06-.94-2.06-.94-.94-2.06-.94 2.06-2.06.94zm-11 1L8.5 8.5l.94-2.06 2.06-.94-2.06-.94L8.5 2.5l-.94 2.06-2.06.94zm10 10l.94 2.06.94-2.06 2.06-.94-2.06-.94-.94-2.06-.94 2.06-2.06.94z\"/><path d=\"M17.41 7.96l-1.37-1.37c-.4-.4-.92-.59-1.43-.59-.52 0-1.04.2-1.43.59L10.3 9.45l-7.72 7.72c-.78.78-.78 2.05 0 2.83L4 21.41c.39.39.9.59 1.41.59.51 0 1.02-.2 1.41-.59l7.78-7.78 2.81-2.81c.8-.78.8-2.07 0-2.86zM5.41 20L4 18.59l7.72-7.72 1.47 1.35L5.41 20z\"/>\n",
              "  </svg>\n",
              "      </button>\n",
              "      \n",
              "  <style>\n",
              "    .colab-df-container {\n",
              "      display:flex;\n",
              "      flex-wrap:wrap;\n",
              "      gap: 12px;\n",
              "    }\n",
              "\n",
              "    .colab-df-convert {\n",
              "      background-color: #E8F0FE;\n",
              "      border: none;\n",
              "      border-radius: 50%;\n",
              "      cursor: pointer;\n",
              "      display: none;\n",
              "      fill: #1967D2;\n",
              "      height: 32px;\n",
              "      padding: 0 0 0 0;\n",
              "      width: 32px;\n",
              "    }\n",
              "\n",
              "    .colab-df-convert:hover {\n",
              "      background-color: #E2EBFA;\n",
              "      box-shadow: 0px 1px 2px rgba(60, 64, 67, 0.3), 0px 1px 3px 1px rgba(60, 64, 67, 0.15);\n",
              "      fill: #174EA6;\n",
              "    }\n",
              "\n",
              "    [theme=dark] .colab-df-convert {\n",
              "      background-color: #3B4455;\n",
              "      fill: #D2E3FC;\n",
              "    }\n",
              "\n",
              "    [theme=dark] .colab-df-convert:hover {\n",
              "      background-color: #434B5C;\n",
              "      box-shadow: 0px 1px 3px 1px rgba(0, 0, 0, 0.15);\n",
              "      filter: drop-shadow(0px 1px 2px rgba(0, 0, 0, 0.3));\n",
              "      fill: #FFFFFF;\n",
              "    }\n",
              "  </style>\n",
              "\n",
              "      <script>\n",
              "        const buttonEl =\n",
              "          document.querySelector('#df-4152046b-920f-4e05-9d2d-d9b4a8701836 button.colab-df-convert');\n",
              "        buttonEl.style.display =\n",
              "          google.colab.kernel.accessAllowed ? 'block' : 'none';\n",
              "\n",
              "        async function convertToInteractive(key) {\n",
              "          const element = document.querySelector('#df-4152046b-920f-4e05-9d2d-d9b4a8701836');\n",
              "          const dataTable =\n",
              "            await google.colab.kernel.invokeFunction('convertToInteractive',\n",
              "                                                     [key], {});\n",
              "          if (!dataTable) return;\n",
              "\n",
              "          const docLinkHtml = 'Like what you see? Visit the ' +\n",
              "            '<a target=\"_blank\" href=https://colab.research.google.com/notebooks/data_table.ipynb>data table notebook</a>'\n",
              "            + ' to learn more about interactive tables.';\n",
              "          element.innerHTML = '';\n",
              "          dataTable['output_type'] = 'display_data';\n",
              "          await google.colab.output.renderOutput(dataTable, element);\n",
              "          const docLink = document.createElement('div');\n",
              "          docLink.innerHTML = docLinkHtml;\n",
              "          element.appendChild(docLink);\n",
              "        }\n",
              "      </script>\n",
              "    </div>\n",
              "  </div>\n",
              "  "
            ]
          },
          "metadata": {},
          "execution_count": 7
        }
      ],
      "source": [
        "data_frame = pd.concat([train_b, train_m]) # benign과 malicious 데이터를 이어붙임\n",
        "data_frame = data_frame.fillna(0) # NaN을 0으로 치환\n",
        "data_frame['ip.src'] = data_frame['ip.src'].str.replace('.','')\n",
        "data_frame['ip.dst'] = data_frame['ip.dst'].str.replace('.','')\n",
        "data_frame['ip.src'] = data_frame['ip.src'].astype(int)\n",
        "data_frame['ip.dst'] = data_frame['ip.dst'].astype(int)\n",
        "data_frame.head()"
      ]
    },
    {
      "cell_type": "code",
      "execution_count": null,
      "metadata": {
        "colab": {
          "base_uri": "https://localhost:8080/",
          "height": 449
        },
        "id": "HURkWgqOP11u",
        "outputId": "7b32b0eb-40d2-4e23-ea44-85d6417a54a0"
      },
      "outputs": [
        {
          "output_type": "display_data",
          "data": {
            "text/plain": [
              "<Figure size 640x480 with 1 Axes>"
            ],
            "image/png": "[encoded data removed]"
          },
          "metadata": {}
        }
      ],
      "source": [
        "# Feature 정보 시각화\n",
        "# Load our data from the csv file\n",
        "import matplotlib.pyplot as plt\n",
        "\n",
        "fig = plt.figure()\n",
        "\n",
        "ax = fig.add_subplot()\n",
        "ax.set_xlabel('tcp.srcport')\n",
        "ax.set_ylabel('tcp.dstport')\n",
        "\n",
        "# ax = fig.add_subplot(projection = \"3d\")\n",
        "# ax.set_xlabel('tcp.seq')\n",
        "# ax.set_ylabel('tcp.ack')\n",
        "# ax.set_zlabel('tcp.len')\n",
        "\n",
        "ax.scatter(x=data_frame['tcp.srcport'], y=data_frame['tcp.dstport'], c=data_frame['B/M'], alpha=0.1)\n",
        "# ax.scatter(xs=data_frame['tcp.seq'], ys=data_frame['tcp.ack'], zs=data_frame['tcp.len'], c=data_frame['B/M'], alpha = 0.1)\n",
        "\n",
        "\n",
        "plt.show()"
      ]
    },
    {
      "cell_type": "code",
      "execution_count": null,
      "metadata": {
        "id": "f1VeLGqNvlxo"
      },
      "outputs": [],
      "source": [
        "data = data_frame[:].to_numpy()\n",
        "\n",
        "data_input = data[:,:22] # 0~ 21번 열\n",
        "data_target = data[:,22] # 22번 열(label)"
      ]
    },
    {
      "cell_type": "code",
      "execution_count": null,
      "metadata": {
        "id": "Uf1UiyLEn3xS"
      },
      "outputs": [],
      "source": [
        "# data를 train set과 test set으로 split (75 : 25)\n",
        "from sklearn.model_selection import train_test_split\n",
        "train_input, test_input, train_target, test_target = train_test_split(data_input, data_target, random_state=40)"
      ]
    },
    {
      "cell_type": "code",
      "execution_count": null,
      "metadata": {
        "colab": {
          "base_uri": "https://localhost:8080/"
        },
        "id": "3qXNtK_8-UqD",
        "outputId": "2d82b1ad-68df-4d55-af3d-1485c75ce20b"
      },
      "outputs": [
        {
          "output_type": "stream",
          "name": "stdout",
          "text": [
            "Number of malicious packet :  0\n",
            "Accuracy : 90.0%\n"
          ]
        }
      ],
      "source": [
        "# Logistic Regression 사용\n",
        "from sklearn.linear_model import LogisticRegression\n",
        "\n",
        "lr = LogisticRegression()\n",
        "lr.fit(train_input[:,2:9], train_target) # train set 학습\n",
        "\n",
        "# 결과\n",
        "lr_output = lr.predict(test_input[:,2:9])\n",
        "print('Number of malicious packet : ', np.count_nonzero(lr_output == 'r'))\n",
        "print('Accuracy : %.1f%%' %(lr.score(test_input[:,2:9], test_target) * 100))"
      ]
    },
    {
      "cell_type": "code",
      "execution_count": null,
      "metadata": {
        "colab": {
          "base_uri": "https://localhost:8080/"
        },
        "id": "XEsHpA7Xl_up",
        "outputId": "44ef0de9-fbd0-4f58-e69c-5f267b9aab15"
      },
      "outputs": [
        {
          "output_type": "stream",
          "name": "stdout",
          "text": [
            "Number of malicious packet :  738\n",
            "Accuracy : 95.6%\n"
          ]
        }
      ],
      "source": [
        "# Logistic Regression 사용\n",
        "from sklearn.linear_model import LogisticRegression\n",
        "\n",
        "w = {'b':40, 'r':60} # 데이터 불균형 해결을 위해 Weight Balancing\n",
        "\n",
        "lr = LogisticRegression(class_weight=w)\n",
        "lr.fit(train_input[:,4:9], train_target) # train set 학습\n",
        "\n",
        "# 결과\n",
        "lr_output = lr.predict(test_input[:,4:9])\n",
        "print('Number of malicious packet : ', np.count_nonzero(lr_output == 'r'))\n",
        "print('Accuracy : %.1f%%' %(lr.score(test_input[:,4:9], test_target) * 100))"
      ]
    },
    {
      "cell_type": "code",
      "execution_count": null,
      "metadata": {
        "colab": {
          "base_uri": "https://localhost:8080/"
        },
        "id": "MnGqlC_5H1Hx",
        "outputId": "0f7519b6-2db4-4eb6-bfb2-a52f7f537b8c"
      },
      "outputs": [
        {
          "output_type": "stream",
          "name": "stdout",
          "text": [
            "Number of malicious packet :  513\n",
            "Accuracy : 100.0%\n"
          ]
        }
      ],
      "source": [
        "# Random Forest 사용\n",
        "from sklearn.ensemble import RandomForestClassifier\n",
        "\n",
        "forest = RandomForestClassifier()\n",
        "forest.fit(train_input[:,2:9], train_target)\n",
        "\n",
        "forest_output = forest.predict(test_input[:,2:9])\n",
        "print('Number of malicious packet : ', np.count_nonzero(forest_output == 'r'))\n",
        "print('Accuracy : %.1f%%' %(forest.score(test_input[:,2:9], test_target) * 100))"
      ]
    }
  ],
  "metadata": {
    "accelerator": "GPU",
    "colab": {
      "provenance": []
    },
    "kernelspec": {
      "display_name": "Python 3",
      "name": "python3"
    },
    "language_info": {
      "name": "python"
    }
  },
  "nbformat": 4,
  "nbformat_minor": 0
}